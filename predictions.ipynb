{
 "cells": [
  {
   "cell_type": "code",
   "execution_count": 2,
   "id": "painful-header",
   "metadata": {},
   "outputs": [],
   "source": [
    "import numpy as np\n",
    "np.random.seed(4)\n",
    "import matplotlib.pyplot as plt\n",
    "import pandas as pd\n",
    "\n",
    "from sklearn.preprocessing import MinMaxScaler\n",
    "# from keras.models import Sequential\n",
    "from tensorflow.keras import Sequential\n",
    "from keras.layers import Dense, LSTM"
   ]
  },
  {
   "cell_type": "code",
   "execution_count": 3,
   "id": "undefined-rolling",
   "metadata": {},
   "outputs": [],
   "source": [
    "def graficar_predicciones(real, prediccion):\n",
    "    plt.plot(real[0:len(prediccion)],color='red', label='Valor real de la acción')\n",
    "    plt.plot(prediccion, color='blue', label='Predicción de la acción')\n",
    "    plt.ylim(1.1 * np.min(prediccion)/2, 1.1 * np.max(prediccion))\n",
    "    plt.xlabel('Tiempo')\n",
    "    plt.ylabel('Valor de la acción')\n",
    "    plt.legend()\n",
    "    plt.show()"
   ]
  },
  {
   "cell_type": "markdown",
   "id": "strong-insulin",
   "metadata": {},
   "source": [
    "## Import data"
   ]
  },
  {
   "cell_type": "code",
   "execution_count": 3,
   "id": "african-portland",
   "metadata": {},
   "outputs": [
    {
     "data": {
      "text/plain": [
       "3019"
      ]
     },
     "execution_count": 3,
     "metadata": {},
     "output_type": "execute_result"
    }
   ],
   "source": [
    "dataset = pd.read_csv('AAPL_2006-01-01_to_2018-01-01.csv', index_col='Date', parse_dates=['Date'])\n",
    "dataset.head()\n",
    "len(dataset)"
   ]
  },
  {
   "cell_type": "markdown",
   "id": "textile-economy",
   "metadata": {},
   "source": [
    "## Prepare data"
   ]
  },
  {
   "cell_type": "code",
   "execution_count": 5,
   "id": "unlimited-river",
   "metadata": {},
   "outputs": [
    {
     "data": {
      "image/png": "[encoded data removed]",
      "text/plain": [
       "<Figure size 432x288 with 1 Axes>"
      ]
     },
     "metadata": {
      "needs_background": "light"
     },
     "output_type": "display_data"
    }
   ],
   "source": [
    "set_entrenamiento = dataset[:'2016'].iloc[:,1:2]\n",
    "set_validacion = dataset['2017':].iloc[:,1:2]\n",
    "\n",
    "set_entrenamiento['High'].plot(legend=True)\n",
    "set_validacion['High'].plot(legend=True)\n",
    "plt.legend(['Entrenamiento (2006-2016)', 'Validación (2017)'])\n",
    "plt.show()\n",
    "\n",
    "# Normalización del set de entrenamiento\n",
    "sc = MinMaxScaler(feature_range=(0,1))\n",
    "set_entrenamiento_escalado = sc.fit_transform(set_entrenamiento)\n",
    "\n",
    "# La red LSTM tendrá como entrada \"time_step\" datos consecutivos, y como salida 1 dato (la predicción a\n",
    "# partir de esos \"time_step\" datos). Se conformará de esta forma el set de entrenamiento\n",
    "time_step = 60\n",
    "X_train = []\n",
    "Y_train = []\n",
    "m = len(set_entrenamiento_escalado)\n",
    "\n",
    "for i in range(time_step,m):\n",
    "    # X: bloques de \"time_step\" datos: 0-time_step, 1-time_step+1, 2-time_step+2, etc\n",
    "    X_train.append(set_entrenamiento_escalado[i-time_step:i,0])\n",
    "\n",
    "    # Y: el siguiente dato\n",
    "    Y_train.append(set_entrenamiento_escalado[i,0])\n",
    "X_train, Y_train = np.array(X_train), np.array(Y_train)\n",
    "\n",
    "# Reshape X_train para que se ajuste al modelo en Keras\n",
    "X_train = np.reshape(X_train, (X_train.shape[0], X_train.shape[1], 1))"
   ]
  },
  {
   "cell_type": "markdown",
   "id": "silver-omega",
   "metadata": {},
   "source": [
    "## Model training"
   ]
  },
  {
   "cell_type": "code",
   "execution_count": 6,
   "id": "intense-advisory",
   "metadata": {},
   "outputs": [
    {
     "name": "stdout",
     "output_type": "stream",
     "text": [
      "Epoch 1/20\n",
      "85/85 [==============================] - 5s 25ms/step - loss: 0.0151\n",
      "Epoch 2/20\n",
      "85/85 [==============================] - 2s 24ms/step - loss: 9.5801e-04\n",
      "Epoch 3/20\n",
      "85/85 [==============================] - 2s 23ms/step - loss: 7.2406e-04\n",
      "Epoch 4/20\n",
      "85/85 [==============================] - 2s 24ms/step - loss: 7.0455e-04\n",
      "Epoch 5/20\n",
      "85/85 [==============================] - 2s 23ms/step - loss: 4.5669e-04\n",
      "Epoch 6/20\n",
      "85/85 [==============================] - 2s 24ms/step - loss: 4.0635e-04\n",
      "Epoch 7/20\n",
      "85/85 [==============================] - 2s 24ms/step - loss: 4.0068e-04\n",
      "Epoch 8/20\n",
      "85/85 [==============================] - 2s 25ms/step - loss: 3.9824e-04\n",
      "Epoch 9/20\n",
      "85/85 [==============================] - 2s 26ms/step - loss: 3.0647e-04\n",
      "Epoch 10/20\n",
      "85/85 [==============================] - 2s 24ms/step - loss: 3.2143e-04: 0s - loss: 3.2316\n",
      "Epoch 11/20\n",
      "85/85 [==============================] - 2s 24ms/step - loss: 2.5589e-04\n",
      "Epoch 12/20\n",
      "85/85 [==============================] - 2s 24ms/step - loss: 2.6854e-04\n",
      "Epoch 13/20\n",
      "85/85 [==============================] - 2s 24ms/step - loss: 2.2227e-04\n",
      "Epoch 14/20\n",
      "85/85 [==============================] - 2s 24ms/step - loss: 2.4492e-04\n",
      "Epoch 15/20\n",
      "85/85 [==============================] - 2s 27ms/step - loss: 2.3079e-04\n",
      "Epoch 16/20\n",
      "85/85 [==============================] - 2s 24ms/step - loss: 2.2175e-04\n",
      "Epoch 17/20\n",
      "85/85 [==============================] - 2s 24ms/step - loss: 2.0629e-04\n",
      "Epoch 18/20\n",
      "85/85 [==============================] - 2s 24ms/step - loss: 2.2051e-04\n",
      "Epoch 19/20\n",
      "85/85 [==============================] - 2s 25ms/step - loss: 1.9290e-04\n",
      "Epoch 20/20\n",
      "85/85 [==============================] - 2s 28ms/step - loss: 1.7334e-04: 2s - - ETA: 0s - lo\n"
     ]
    },
    {
     "data": {
      "text/plain": [
       "<tensorflow.python.keras.callbacks.History at 0x28a81caaf70>"
      ]
     },
     "execution_count": 6,
     "metadata": {},
     "output_type": "execute_result"
    }
   ],
   "source": [
    "dim_entrada = (X_train.shape[1],1)\n",
    "dim_salida = 1\n",
    "na = 50\n",
    "# Model definition\n",
    "modelo = Sequential()\n",
    "modelo.add(LSTM(units=na, input_shape=dim_entrada))\n",
    "modelo.add(Dense(units=dim_salida))\n",
    "modelo.compile(optimizer='rmsprop', loss='mse')\n",
    "# Model training\n",
    "modelo.fit(X_train,Y_train,epochs=20,batch_size=32)"
   ]
  },
  {
   "cell_type": "markdown",
   "id": "graphic-dating",
   "metadata": {},
   "source": [
    "## Model validation"
   ]
  },
  {
   "cell_type": "code",
   "execution_count": 7,
   "id": "living-islam",
   "metadata": {},
   "outputs": [
    {
     "data": {
      "image/png": "[encoded data removed]",
      "text/plain": [
       "<Figure size 432x288 with 1 Axes>"
      ]
     },
     "metadata": {
      "needs_background": "light"
     },
     "output_type": "display_data"
    }
   ],
   "source": [
    "x_test = set_validacion.values\n",
    "x_test = sc.transform(x_test)\n",
    "\n",
    "X_test = []\n",
    "for i in range(time_step,len(x_test)):\n",
    "    X_test.append(x_test[i-time_step:i,0])\n",
    "X_test = np.array(X_test)\n",
    "X_test = np.reshape(X_test, (X_test.shape[0],X_test.shape[1],1))\n",
    "\n",
    "prediccion = modelo.predict(X_test)\n",
    "prediccion = sc.inverse_transform(prediccion)\n",
    "\n",
    "# Graficar resultados\n",
    "graficar_predicciones(set_validacion.values,prediccion)"
   ]
  },
  {
   "cell_type": "code",
   "execution_count": null,
   "id": "integral-cable",
   "metadata": {},
   "outputs": [],
   "source": []
  }
 ],
 "metadata": {
  "kernelspec": {
   "display_name": "Python 3",
   "language": "python",
   "name": "python3"
  },
  "language_info": {
   "codemirror_mode": {
    "name": "ipython",
    "version": 3
   },
   "file_extension": ".py",
   "mimetype": "text/x-python",
   "name": "python",
   "nbconvert_exporter": "python",
   "pygments_lexer": "ipython3",
   "version": "3.9.1"
  }
 },
 "nbformat": 4,
 "nbformat_minor": 5
}
